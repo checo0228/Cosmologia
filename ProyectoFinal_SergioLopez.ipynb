{
  "nbformat": 4,
  "nbformat_minor": 0,
  "metadata": {
    "colab": {
      "provenance": []
    },
    "kernelspec": {
      "name": "python3",
      "display_name": "Python 3"
    },
    "language_info": {
      "name": "python"
    }
  },
  "cells": [
    {
      "cell_type": "code",
      "execution_count": 5,
      "metadata": {
        "id": "rIqJhAVcVRQy"
      },
      "outputs": [],
      "source": [
        "import numpy as np\n",
        "import matplotlib.pyplot as plt\n",
        "import scipy.integrate as integrate\n",
        "from pandas import read_table\n",
        "import numexpr as ne"
      ]
    },
    {
      "cell_type": "code",
      "source": [
        "#Define constants\n",
        "c=299792.458 #km/s\n",
        "H0=70 #km/s/Mpc \n"
      ],
      "metadata": {
        "id": "xn-9s61hrc1S"
      },
      "execution_count": 9,
      "outputs": []
    },
    {
      "cell_type": "code",
      "source": [
        "#col1=zcmb: CMB frame redshift\n",
        "#col2=zhelio: CMB frame redshift\n",
        "#col4=mb: B band peak magnitude\n",
        "#col5=  Error in mb \n",
        "#col6=X1:  shape parameter\n",
        "#col7=dX1: Error in shape parameter\n",
        "#col8= C: Colour parameter\n",
        "#col9= dcolour: Error in colour\n",
        "#col10= log_10 host stellar mass\n",
        "#col11= Error in log_10 host stellar mass\n",
        "# col14= cov_m_s: The covariance between mb and x1\n",
        "#col15= cov_m_c: The covariance between mb and colour\n",
        "#col16=cov_s_c: The covariance between x1 and colour\n",
        "data=np.loadtxt(\"jla_lcparams.txt\",usecols=(1,2,4,5,6,7,8,9,10,11,14,15,16)).T"
      ],
      "metadata": {
        "id": "kkQtw8RIg_kj"
      },
      "execution_count": 7,
      "outputs": []
    },
    {
      "cell_type": "code",
      "source": [
        "#Read the different components of the covariance matrix\n",
        "length=740 #first number in the files, also equals to the number of data \n",
        "Cov00=read_table('jla_v0_covmatrix.dat').to_numpy().reshape((length, length))\n",
        "Cov11=read_table('jla_va_covmatrix.dat').to_numpy().reshape((length, length))\n",
        "Cov22=read_table('jla_vb_covmatrix.dat').to_numpy().reshape((length, length))\n",
        "Cov01=read_table('jla_v0a_covmatrix.dat').to_numpy().reshape((length, length))\n",
        "Cov02=read_table('jla_v0b_covmatrix.dat').to_numpy().reshape((length, length))\n",
        "Cov12=read_table('jla_vab_covmatrix.dat').to_numpy().reshape((length, length))\n",
        "cov=[Cov00,Cov11,Cov22,Cov01,Cov02,Cov12]"
      ],
      "metadata": {
        "id": "VW9jznFL7lr2"
      },
      "execution_count": 45,
      "outputs": []
    },
    {
      "cell_type": "code",
      "source": [],
      "metadata": {
        "id": "QjQu20PaFi79"
      },
      "execution_count": null,
      "outputs": []
    },
    {
      "cell_type": "code",
      "source": [
        "def covmat(alpha,beta,data,cov):\n",
        "  C00,C11,C22,C01,C02,C12=cov\n",
        "  dmb,dx1,dcolor,cov_m_s,cov_m_c,cov_s_c=data[3],data[5],data[7],data[10],data[11],data[12]\n",
        "  cov = ne.evaluate(\n",
        "            \"(C00 + alpha**2*C11 + beta**2*C22\"\n",
        "            \"+2.*alpha*C01 -2.*beta*C02 -2.*alpha*beta*C12)\")\n",
        "  \n",
        "  cov += np.diag(dmb**2 + (alpha*dx1)**2 + (beta*dcolor)**2\n",
        "                       + 2.*alpha*cov_m_s\n",
        "                       - 2.*beta*cov_m_c\n",
        "                       - 2.*alpha*beta*cov_s_c)\n",
        "  return cov"
      ],
      "metadata": {
        "id": "6ZWOrdEd_SHP"
      },
      "execution_count": 10,
      "outputs": []
    },
    {
      "cell_type": "code",
      "source": [
        "#Define function to obtain the observed distance modulus. See eq. 4 and 5 from https://arxiv.org/pdf/1401.4064.pdf \n",
        "def mu_obs(alpha,beta,MB1,deltaM,data):\n",
        "  m,X1,C,Mstar=data[2],data[4],data[6],data[8]\n",
        "  MB=np.zeros(len(Mstar))\n",
        "  for i in range(len(Mstar)):\n",
        "    if Mstar[i] < 10:\n",
        "      MB[i]=MB1\n",
        "    else:\n",
        "     MB[i]=MB1+deltaM\n",
        "  \n",
        "  tmp=m-(MB-alpha*X1+beta*C)\n",
        "  return tmp\n"
      ],
      "metadata": {
        "id": "qtZ1lmq9hERf"
      },
      "execution_count": 46,
      "outputs": []
    },
    {
      "cell_type": "code",
      "source": [
        "#Test that the function mu_obs is working\n",
        "Omega_m_jla,alpha_jla,beta_jla,MB_jla,deltaM_jla=0.295,0.141,3.031,-19.05,-0.07\n",
        "mu_data=mu_obs(alpha_jla,beta_jla,MB_jla,deltaM_jla,data)\n",
        "cov_data=covmat(alpha_jla,beta_jla,data,cov)\n"
      ],
      "metadata": {
        "id": "A-3JAtAciK_L"
      },
      "execution_count": 47,
      "outputs": []
    },
    {
      "cell_type": "code",
      "source": [
        "#plt.plot(data[0],mu_data)\n",
        "plt.errorbar(data[0],mu_data,yerr=np.sqrt(np.diag(cov_data)),fmt='.')\n",
        "#plt.errorbar(data[0],mu_data,fmt='.')\n",
        "plt.xlabel(r'$z_{cmb}$')\n",
        "plt.ylabel(r'$\\mu(\\alpha,\\beta,M_B,\\Delta_M)$')\n",
        "plt.xscale('log')\n",
        "plt.ylim(33,46)"
      ],
      "metadata": {
        "colab": {
          "base_uri": "https://localhost:8080/",
          "height": 512
        },
        "id": "eLPoFIBRGMLl",
        "outputId": "318a3858-7bfb-45db-8476-1944810a7862"
      },
      "execution_count": 48,
      "outputs": [
        {
          "output_type": "stream",
          "name": "stderr",
          "text": [
            "<ipython-input-48-e0a82d68846f>:2: RuntimeWarning: invalid value encountered in sqrt\n",
            "  plt.errorbar(data[0],mu_data,yerr=np.sqrt(np.diag(cov_data)),fmt='.')\n"
          ]
        },
        {
          "output_type": "execute_result",
          "data": {
            "text/plain": [
              "(33.0, 46.0)"
            ]
          },
          "metadata": {},
          "execution_count": 48
        },
        {
          "output_type": "display_data",
          "data": {
            "text/plain": [
              "<Figure size 640x480 with 1 Axes>"
            ],
            "image/png": "[encoded data removed]"
          },
          "metadata": {}
        }
      ]
    },
    {
      "cell_type": "code",
      "source": [
        "\n",
        "\"\"\"def dL(Om,z):\n",
        "  tmp= \n",
        "  return tmp\"\"\"\n",
        "def dL(Om, z):\n",
        "    integrand = lambda z_prime: 1 / np.sqrt(Om * (1 + z_prime) ** 3 + (1 - Om))\n",
        "    integral, _ = integrate.quad(integrand, 0, z)\n",
        "    luminosity_distance = (c / H0) * (1 + z) * integral\n",
        "    return luminosity_distance\n",
        "\n",
        "def mu_model(Omega_m,z):\n",
        "  tmp= 5*np.log10(dL(z,Omega_m)/0.00001)\n",
        "  return tmp\n",
        "\n",
        "\"\"\"def ln_like(theta,data,cov):\n",
        "  Om,alpha,beta,MB1,DM=theta\n",
        "  muobs=mu_obs(alpha,beta,MB1,DM,data)\n",
        "  z=data[0]\n",
        "  mu=mu_model(Om,z)\n",
        "  lnlike =np.sum()\n",
        "  return lnlike\"\"\"\n",
        "\"\"\"def ln_like(theta, data, cov):\n",
        "    Om, alpha, beta, MB1, DM = theta\n",
        "    mu_observed = mu_obs(alpha, beta, MB1, DM, data)\n",
        "    z = data[0]\n",
        "    mu_model = mu_model(Om, z)\n",
        "    residuals = mu_observed - mu_model\n",
        "    \n",
        "    # Calcular la log-verosimilitud utilizando la distribución gaussiana\n",
        "    log_likelihood = -0.5 * np.dot(residuals, np.linalg.solve(cov, residuals)) - 0.5 * np.log(np.linalg.det(cov))\n",
        "    \n",
        "    return log_likelihood\"\"\"\n",
        "\n",
        "def ln_like(theta, data, cov):\n",
        "    Om, alpha, beta, MB1, deltaM = theta\n",
        "    mu_observed = mu_obs(alpha, beta, MB1, deltaM, data)\n",
        "    z = data[0]\n",
        "    mu_theory = mu_model(Om, z)\n",
        "    cov_matrix = covmat(alpha, beta, data, cov)\n",
        "    ln_likelihood = -0.5 * np.dot(mu_observed - mu_theory, np.linalg.solve(cov_matrix, mu_observed - mu_theory))\n",
        "    return ln_likelihood\n"
      ],
      "metadata": {
        "id": "f8lZdCXACEFj"
      },
      "execution_count": 50,
      "outputs": []
    },
    {
      "cell_type": "code",
      "source": [
        "\"\"\"mu_theory=mu_model(Omega_m_jla,data[0])\n",
        "plt.plot(data[0],mu_theory,'.')\n",
        "plt.plot(data[0],mu_data,'.')\n",
        "\n",
        "plt.xscale('log')\"\"\"\n",
        "\n",
        "mu_theory = []\n",
        "for z in data[0]:\n",
        "    mu = mu_model(Omega_m_jla, z)\n",
        "    mu_theory.append(mu)\n",
        "\n",
        "plt.plot(data[0], mu_theory, '.')\n",
        "plt.plot(data[0], mu_data, '.')\n",
        "plt.xscale('log')\n"
      ],
      "metadata": {
        "colab": {
          "base_uri": "https://localhost:8080/",
          "height": 434
        },
        "id": "ZVnwr8UgslOI",
        "outputId": "97b16b39-1fd3-430a-fcbd-0a1b2869d281"
      },
      "execution_count": 20,
      "outputs": [
        {
          "output_type": "display_data",
          "data": {
            "text/plain": [
              "<Figure size 640x480 with 1 Axes>"
            ],
            "image/png": "[encoded data removed]"
          },
          "metadata": {}
        }
      ]
    },
    {
      "cell_type": "code",
      "source": [],
      "metadata": {
        "id": "WsmCiC9fvIPC"
      },
      "execution_count": 51,
      "outputs": []
    },
    {
      "cell_type": "code",
      "source": [
        "import numpy as np\n",
        "import scipy.integrate as integrate\n",
        "import matplotlib.pyplot as plt\n",
        "\n",
        "# Define constants\n",
        "c = 299792.458 # km/s\n",
        "H0 = 70.0 # km/s/Mpc\n",
        "\n",
        "# Define function to calculate the luminosity distance\n",
        "def dL(Om, z):\n",
        "    integrand = lambda z_prime: 1.0 / np.sqrt(Om * (1.0 + z_prime)**3 + (1 - Om))\n",
        "    integral, _ = integrate.quad(integrand, 0, z)\n",
        "    return (c / H0) * (1.0 + z) * integral\n",
        "\n",
        "# Define function to calculate the distance modulus\n",
        "def mu_model(Om, z):\n",
        "    dL_val = dL(Om, z)\n",
        "    return 5 * np.log10(dL_val) + 25\n",
        "\n",
        "# Define log-likelihood function\n",
        "def ln_likelihood(theta, data):\n",
        "    Om, = theta\n",
        "    z = data[0]\n",
        "    mu_obs = data[1]\n",
        "    sigma = data[2]\n",
        "\n",
        "    ln_like = 0.0\n",
        "    for i in range(len(z)):\n",
        "        # Calculate the model prediction for the current data point\n",
        "        mu_pred = mu_model(Om, z[i])\n",
        "\n",
        "        # Calculate the log-likelihood for the current data point\n",
        "        ln_like += -0.5 * ((mu_obs[i] - mu_pred) / sigma[i])**2\n",
        "\n",
        "    return ln_like\n",
        "\n",
        "\n",
        "# Define the proposal distribution\n",
        "def propose(theta, stepsize):\n",
        "    return theta + np.random.normal(scale=stepsize)\n",
        "\n",
        "# Define the Metropolis-Hastings algorithm\n",
        "def metropolis_hastings(data, initial_theta, stepsize, n_samples):\n",
        "    theta = initial_theta\n",
        "    theta_samples = [theta]\n",
        "    ln_like_current = ln_likelihood(theta, data)\n",
        "\n",
        "    for i in range(n_samples):\n",
        "        # Propose a new theta\n",
        "        theta_proposed = propose(theta, stepsize)\n",
        "        ln_like_proposed = ln_likelihood(theta_proposed, data)\n",
        "\n",
        "        # Calculate the acceptance probability\n",
        "        ln_like_diff = ln_like_proposed - ln_like_current\n",
        "        accept_prob = np.exp(ln_like_diff)\n",
        "\n",
        "        # Accept or reject the proposed theta\n",
        "        if np.random.uniform() < accept_prob:\n",
        "            theta = theta_proposed\n",
        "            ln_like_current = ln_like_proposed\n",
        "\n",
        "        # Add the current theta to the samples\n",
        "        theta_samples.append(theta)\n",
        "\n",
        "    return np.array(theta_samples)\n",
        "\n",
        "# Load the data\n",
        "data = np.loadtxt(\"jla_lcparams.txt\", usecols=(1, 4, 5)).T\n",
        "\n",
        "# Set the initial theta and stepsize\n",
        "initial_theta = np.array([0.3])  # Initial value of Omega_m\n",
        "stepsize = 0.01\n",
        "\n",
        "# Run the MCMC algorithm\n",
        "n_samples = 1000\n",
        "theta_samples = metropolis_hastings(data, initial_theta, stepsize, n_samples)\n",
        "\n",
        "# Discard burn-in samples\n",
        "burn_in = int(0.2 * n_samples)\n",
        "theta_samples = theta_samples[burn_in:]\n",
        "\n",
        "# Plot the posterior distribution\n",
        "plt.hist(theta_samples, bins=30, density=True, alpha=0.7)\n",
        "plt.xlabel(r'$\\Omega_m$')\n",
        "plt.ylabel('Posterior Probability')\n",
        "plt.show()\n"
      ],
      "metadata": {
        "colab": {
          "base_uri": "https://localhost:8080/",
          "height": 487
        },
        "id": "LdksX7B3C0M0",
        "outputId": "09a78783-0f7b-457b-90e6-9a2b396b0d2b"
      },
      "execution_count": 55,
      "outputs": [
        {
          "output_type": "stream",
          "name": "stderr",
          "text": [
            "<ipython-input-55-1c61d011d522>:55: RuntimeWarning: overflow encountered in exp\n",
            "  accept_prob = np.exp(ln_like_diff)\n"
          ]
        },
        {
          "output_type": "display_data",
          "data": {
            "text/plain": [
              "<Figure size 640x480 with 1 Axes>"
            ],
            "image/png": "[encoded data removed]"
          },
          "metadata": {}
        }
      ]
    },
    {
      "cell_type": "code",
      "source": [
        "pip install emcee"
      ],
      "metadata": {
        "colab": {
          "base_uri": "https://localhost:8080/"
        },
        "id": "xWSUjwonN6pa",
        "outputId": "3b7efeda-e6f7-485a-84dc-31463879acff"
      },
      "execution_count": 57,
      "outputs": [
        {
          "output_type": "stream",
          "name": "stdout",
          "text": [
            "Looking in indexes: https://pypi.org/simple, https://us-python.pkg.dev/colab-wheels/public/simple/\n",
            "Collecting emcee\n",
            "  Downloading emcee-3.1.4-py2.py3-none-any.whl (46 kB)\n",
            "\u001b[2K     \u001b[90m━━━━━━━━━━━━━━━━━━━━━━━━━━━━━━━━━━━━━━━━\u001b[0m \u001b[32m46.2/46.2 kB\u001b[0m \u001b[31m3.2 MB/s\u001b[0m eta \u001b[36m0:00:00\u001b[0m\n",
            "\u001b[?25hRequirement already satisfied: numpy in /usr/local/lib/python3.10/dist-packages (from emcee) (1.22.4)\n",
            "Installing collected packages: emcee\n",
            "Successfully installed emcee-3.1.4\n"
          ]
        }
      ]
    },
    {
      "cell_type": "code",
      "source": [
        "import emcee\n",
        "import numpy as np\n",
        "import scipy.integrate as integrate\n",
        "\n",
        "# Define constants\n",
        "c = 299792.458  # km/s\n",
        "H0 = 70  # km/s/Mpc\n",
        "\n",
        "# Define the model for distance luminosity\n",
        "def dL(Om, z):\n",
        "    integrand = lambda z: 1.0 / np.sqrt(Om * (1 + z)**3 + (1 - Om))\n",
        "    result, _ = integrate.quad(integrand, 0, z)\n",
        "    return (c / H0) * (1 + z) * result\n",
        "\n",
        "# Define the model for the observed distance modulus\n",
        "def mu_model(Om, z):\n",
        "    return 5 * np.log10(dL(Om, z) / 10)\n",
        "\n",
        "# Define the log-likelihood function\n",
        "def ln_likelihood(theta, data):\n",
        "    Om = theta\n",
        "    z = data[0]\n",
        "    mu_obs = data[1]\n",
        "    sigma = data[2]\n",
        "\n",
        "    ln_like = 0.0\n",
        "    for i in range(len(z)):\n",
        "        mu_pred = mu_model(Om, z[i])\n",
        "        ln_like += -0.5 * ((mu_obs[i] - mu_pred) / sigma[i])**2\n",
        "\n",
        "    return ln_like\n",
        "\n",
        "# Define the log-prior function\n",
        "def ln_prior(theta):\n",
        "    Om = theta\n",
        "    if 0.0 < Om < 1.0:\n",
        "        return 0.0\n",
        "    return -np.inf\n",
        "\n",
        "# Define the log-posterior function\n",
        "def ln_posterior(theta, data):\n",
        "    ln_prior_val = ln_prior(theta)\n",
        "    if not np.isfinite(ln_prior_val):\n",
        "        return -np.inf\n",
        "    return ln_prior_val + ln_likelihood(theta, data)\n",
        "\n",
        "# Load the data\n",
        "data = np.loadtxt(\"jla_lcparams.txt\", usecols=(1, 2, 4)).T\n",
        "\n",
        "# Set the number of walkers and dimensions\n",
        "nwalkers = 10\n",
        "ndim = 1\n",
        "\n",
        "# Set the initial positions of the walkers\n",
        "Om_initial = 0.3\n",
        "theta_initial = Om_initial + 1e-4 * np.random.randn(nwalkers, ndim)\n",
        "\n",
        "# Create the sampler\n",
        "sampler = emcee.EnsembleSampler(nwalkers, ndim, ln_posterior, args=[data])\n",
        "\n",
        "# Run the burn-in phase\n",
        "burnin_steps = 500\n",
        "pos, _, _ = sampler.run_mcmc(theta_initial, burnin_steps)\n",
        "\n",
        "# Reset the sampler and run the production phase\n",
        "sampler.reset()\n",
        "production_steps = 1000\n",
        "sampler.run_mcmc(pos, production_steps)\n",
        "\n",
        "# Get the samples\n",
        "samples = sampler.flatchain\n",
        "\n",
        "# Extract the posterior samples of Omega_m\n",
        "Om_samples = samples[:, 0]\n",
        "\n",
        "# Calculate the mean and standard deviation of Omega_m\n",
        "Om_mean = np.mean(Om_samples)\n",
        "Om_std = np.std(Om_samples)\n",
        "\n",
        "print(\"Media de Omega_m:\", Om_mean)\n",
        "print(\"Desviación estándar de Omega_m:\", Om_std)\n"
      ],
      "metadata": {
        "colab": {
          "base_uri": "https://localhost:8080/"
        },
        "id": "BjV5XJ3FN06f",
        "outputId": "55796ed8-7fc3-492b-aaa6-ce32c7c1a256"
      },
      "execution_count": 62,
      "outputs": [
        {
          "output_type": "stream",
          "name": "stdout",
          "text": [
            "Media de Omega_m: 0.8107912441599623\n",
            "Desviación estándar de Omega_m: 0.1696934780220125\n"
          ]
        }
      ]
    }
  ]
}